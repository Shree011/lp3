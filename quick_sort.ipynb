{
 "cells": [
  {
   "cell_type": "code",
   "execution_count": 7,
   "id": "b092e476",
   "metadata": {},
   "outputs": [
    {
     "name": "stdout",
     "output_type": "stream",
     "text": [
      "Sorted array:\n",
      "1 5 7 8 9 10 "
     ]
    }
   ],
   "source": [
    "def partition(arr, low, high):\n",
    "    pivot = arr[low]\n",
    "    i = low + 1\n",
    "    j = high\n",
    "\n",
    "    while True:\n",
    "        while i <= j and arr[i] <= pivot:\n",
    "            i += 1\n",
    "        while i <= j and arr[j] >= pivot:\n",
    "            j -= 1\n",
    "        if i <= j:\n",
    "            arr[i], arr[j] = arr[j], arr[i]\n",
    "        else:\n",
    "            break\n",
    "\n",
    "    arr[low], arr[j] = arr[j], arr[low]\n",
    "    return j\n",
    "\n",
    "def quickSort(arr, low, high):\n",
    "    if low < high:\n",
    "        pivot = partition(arr, low, high)\n",
    "        quickSort(arr, low, pivot - 1)\n",
    "        quickSort(arr, pivot + 1, high)\n",
    "\n",
    "if __name__ == '__main__':\n",
    "    array = [10, 7, 8, 9, 1, 5]\n",
    "    N = len(array)\n",
    "\n",
    "    # Function call\n",
    "    quickSort(array, 0, N - 1)\n",
    "    print('Sorted array:')\n",
    "    for x in array:\n",
    "        print(x, end=\" \")\n"
   ]
  },
  {
   "cell_type": "code",
   "execution_count": null,
   "id": "71edf280",
   "metadata": {},
   "outputs": [],
   "source": []
  }
 ],
 "metadata": {
  "kernelspec": {
   "display_name": "Python 3 (ipykernel)",
   "language": "python",
   "name": "python3"
  },
  "language_info": {
   "codemirror_mode": {
    "name": "ipython",
    "version": 3
   },
   "file_extension": ".py",
   "mimetype": "text/x-python",
   "name": "python",
   "nbconvert_exporter": "python",
   "pygments_lexer": "ipython3",
   "version": "3.12.0"
  }
 },
 "nbformat": 4,
 "nbformat_minor": 5
}
