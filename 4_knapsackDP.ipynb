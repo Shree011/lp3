{
  "metadata": {
    "kernelspec": {
      "name": "python",
      "display_name": "Python (Pyodide)",
      "language": "python"
    },
    "language_info": {
      "codemirror_mode": {
        "name": "ipython",
        "version": 3
      },
      "file_extension": ".py",
      "mimetype": "text/x-python",
      "name": "python",
      "nbconvert_exporter": "python",
      "pygments_lexer": "ipython3",
      "version": "3.10.7"
    }
  },
  "nbformat_minor": 5,
  "nbformat": 4,
  "cells": [
    {
      "cell_type": "code",
      "source": "def knapsack(w,profit,weight,n):\n    if n==0 or w==0:\n        return 0\n    if t[n][w] != -1:\n        return t[n][w]\n    \n    if(weight[n-1]>w):\n        t[n][w] = knapsack(w,profit,weight,n-1)\n        return t[n][w]\n    else:\n        t[n][w] = max(profit[n-1]+knapsack(w-weight[n-1],profit,weight,n-1),knapsack(w,profit,weight,n-1))\n        return t[n][w]\nif __name__ == '__main__':\n    profit = [60,100,120]\n    weight = [10,20,30]\n    w  = 50\n    n = len(profit)\n    t = [[-1 for i in range(W + 1)] for j in range(n + 1)] \n    print(knapsack(w,profit,weight,n))",
      "metadata": {
        "trusted": true
      },
      "execution_count": null,
      "outputs": [],
      "id": "022178e7"
    },
    {
      "cell_type": "code",
      "source": "",
      "metadata": {},
      "execution_count": null,
      "outputs": [],
      "id": "57725d8e"
    }
  ]
}