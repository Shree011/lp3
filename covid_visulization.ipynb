{
 "cells": [
  {
   "cell_type": "code",
   "execution_count": 1,
   "id": "5ce77575",
   "metadata": {},
   "outputs": [
    {
     "ename": "NameError",
     "evalue": "name 'df' is not defined",
     "output_type": "error",
     "traceback": [
      "\u001b[1;31m---------------------------------------------------------------------------\u001b[0m",
      "\u001b[1;31mNameError\u001b[0m                                 Traceback (most recent call last)",
      "Cell \u001b[1;32mIn[1], line 11\u001b[0m\n\u001b[0;32m      5\u001b[0m \u001b[38;5;66;03m# Load your COVID-19 dataset\u001b[39;00m\n\u001b[0;32m      6\u001b[0m \u001b[38;5;66;03m# df = pd.read_csv(\"your_dataset.csv\")\u001b[39;00m\n\u001b[0;32m      7\u001b[0m \n\u001b[0;32m      8\u001b[0m \u001b[38;5;66;03m# 1. Barplot for Confirmed, Cured, Active, Death cases\u001b[39;00m\n\u001b[0;32m      9\u001b[0m plt\u001b[38;5;241m.\u001b[39mfigure(figsize\u001b[38;5;241m=\u001b[39m(\u001b[38;5;241m12\u001b[39m, \u001b[38;5;241m6\u001b[39m))\n\u001b[0;32m     10\u001b[0m sns\u001b[38;5;241m.\u001b[39mbarplot(x\u001b[38;5;241m=\u001b[39m[\u001b[38;5;124m'\u001b[39m\u001b[38;5;124mConfirmed\u001b[39m\u001b[38;5;124m'\u001b[39m, \u001b[38;5;124m'\u001b[39m\u001b[38;5;124mCured\u001b[39m\u001b[38;5;124m'\u001b[39m, \u001b[38;5;124m'\u001b[39m\u001b[38;5;124mActive\u001b[39m\u001b[38;5;124m'\u001b[39m, \u001b[38;5;124m'\u001b[39m\u001b[38;5;124mDeath\u001b[39m\u001b[38;5;124m'\u001b[39m],\n\u001b[1;32m---> 11\u001b[0m             y\u001b[38;5;241m=\u001b[39m[\u001b[43mdf\u001b[49m[\u001b[38;5;124m'\u001b[39m\u001b[38;5;124mConfirmed\u001b[39m\u001b[38;5;124m'\u001b[39m]\u001b[38;5;241m.\u001b[39msum(), df[\u001b[38;5;124m'\u001b[39m\u001b[38;5;124mCured\u001b[39m\u001b[38;5;124m'\u001b[39m]\u001b[38;5;241m.\u001b[39msum(), df[\u001b[38;5;124m'\u001b[39m\u001b[38;5;124mActive\u001b[39m\u001b[38;5;124m'\u001b[39m]\u001b[38;5;241m.\u001b[39msum(), df[\u001b[38;5;124m'\u001b[39m\u001b[38;5;124mDeath\u001b[39m\u001b[38;5;124m'\u001b[39m]\u001b[38;5;241m.\u001b[39msum()])\n\u001b[0;32m     12\u001b[0m plt\u001b[38;5;241m.\u001b[39mtitle(\u001b[38;5;124m\"\u001b[39m\u001b[38;5;124mCOVID-19 Cases\u001b[39m\u001b[38;5;124m\"\u001b[39m)\n\u001b[0;32m     13\u001b[0m plt\u001b[38;5;241m.\u001b[39mylabel(\u001b[38;5;124m\"\u001b[39m\u001b[38;5;124mTotal Cases\u001b[39m\u001b[38;5;124m\"\u001b[39m)\n",
      "\u001b[1;31mNameError\u001b[0m: name 'df' is not defined"
     ]
    },
    {
     "data": {
      "text/plain": [
       "<Figure size 1200x600 with 0 Axes>"
      ]
     },
     "metadata": {},
     "output_type": "display_data"
    }
   ],
   "source": [
    "import pandas as pd\n",
    "import matplotlib.pyplot as plt\n",
    "import seaborn as sns\n",
    "\n",
    "# Load your COVID-19 dataset\n",
    "# df = pd.read_csv(\"your_dataset.csv\")\n",
    "\n",
    "# 1. Barplot for Confirmed, Cured, Active, Death cases\n",
    "plt.figure(figsize=(12, 6))\n",
    "sns.barplot(x=['Confirmed', 'Cured', 'Active', 'Death'],\n",
    "            y=[df['Confirmed'].sum(), df['Cured'].sum(), df['Active'].sum(), df['Death'].sum()])\n",
    "plt.title(\"COVID-19 Cases\")\n",
    "plt.ylabel(\"Total Cases\")\n",
    "plt.show()\n",
    "\n",
    "# 2. Piechart for Confirmed, Cured, Active, Death cases\n",
    "plt.figure(figsize=(8, 8))\n",
    "df_cases = df[['Confirmed', 'Cured', 'Active', 'Death']].sum()\n",
    "plt.pie(df_cases, labels=df_cases.index, autopct='%1.1f%%', startangle=90)\n",
    "plt.title(\"COVID-19 Cases Distribution\")\n",
    "plt.show()\n",
    "\n",
    "# 3. Piechart for top 15 active cases (Sorted manner)\n",
    "top_15_active = df.nlargest(15, 'Active')\n",
    "plt.figure(figsize=(8, 8))\n",
    "plt.pie(top_15_active['Active'], labels=top_15_active['State'], autopct='%1.1f%%')\n",
    "plt.title(\"Top 15 Active Cases by State\")\n",
    "plt.show()\n",
    "\n",
    "# 4. Piechart for top 15 active cases (Unsorted manner)\n",
    "top_15_active = df.nlargest(15, 'Active')\n",
    "plt.figure(figsize=(8, 8))\n",
    "plt.pie(top_15_active['Active'], labels=top_15_active['State'], autopct='%1.1f%%')\n",
    "plt.title(\"Top 15 Active Cases by State (Unsorted)\")\n",
    "plt.show()\n",
    "\n",
    "# 5. Violin plot for top 10 death cases\n",
    "top_10_death = df.nlargest(10, 'Death')\n",
    "plt.figure(figsize=(12, 6))\n",
    "sns.violinplot(x=top_10_death['State'], y=top_10_death['Death'])\n",
    "plt.title(\"Violin Plot for Top 10 Death Cases by State\")\n",
    "plt.xticks(rotation=45)\n",
    "plt.show()\n",
    "\n",
    "# 6. Line plot for top 10 death cases\n",
    "top_10_death = df.nlargest(10, 'Death')\n",
    "plt.figure(figsize=(12, 6))\n",
    "for state in top_10_death['State']:\n",
    "    state_data = df[df['State'] == state]\n",
    "    plt.plot(state_data['Date'], state_data['Death'], label=state)\n",
    "plt.title(\"Death Cases Over Time for Top 10 States\")\n",
    "plt.xlabel(\"Date\")\n",
    "plt.ylabel(\"Death Cases\")\n",
    "plt.legend()\n",
    "plt.xticks(rotation=45)\n",
    "plt.show()\n",
    "\n",
    "# 7. Barplot for top 10 death cases\n",
    "top_10_death = df.nlargest(10, 'Death')\n",
    "plt.figure(figsize=(12, 6))\n",
    "sns.barplot(x=top_10_death['State'], y=top_10_death['Death'])\n",
    "plt.title(\"Top 10 Death Cases by State\")\n",
    "plt.xticks(rotation=45)\n",
    "plt.show()\n",
    "\n",
    "# 8. Top 5 most affected states (sorted by total cases)\n",
    "top_5_states = df.nlargest(5, 'TotalCases')\n",
    "print(\"Top 5 Most Affected States (Sorted):\")\n",
    "print(top_5_states[['State', 'TotalCases']])\n",
    "\n",
    "# 9. Correlation\n",
    "correlation_matrix = df.corr()\n",
    "plt.figure(figsize=(10, 8))\n",
    "sns.heatmap(correlation_matrix, annot=True, fmt=\".2f\", cmap=\"coolwarm\")\n",
    "plt.title(\"Correlation Matrix\")\n",
    "plt.show()\n",
    "\n",
    "# 10. Fatality ratio\n",
    "df['FatalityRatio'] = (df['Death'] / df['Confirmed']) * 100\n",
    "\n",
    "# Display a few rows to inspect the added column\n",
    "print(df[['State', 'FatalityRatio']].head())\n"
   ]
  },
  {
   "cell_type": "code",
   "execution_count": null,
   "id": "68ff78b3-1033-4c92-a43f-6e8772794412",
   "metadata": {},
   "outputs": [],
   "source": []
  }
 ],
 "metadata": {
  "kernelspec": {
   "display_name": "Python 3 (ipykernel)",
   "language": "python",
   "name": "python3"
  },
  "language_info": {
   "codemirror_mode": {
    "name": "ipython",
    "version": 3
   },
   "file_extension": ".py",
   "mimetype": "text/x-python",
   "name": "python",
   "nbconvert_exporter": "python",
   "pygments_lexer": "ipython3",
   "version": "3.12.0"
  }
 },
 "nbformat": 4,
 "nbformat_minor": 5
}
