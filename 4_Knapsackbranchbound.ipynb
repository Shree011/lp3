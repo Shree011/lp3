{
  "metadata": {
    "kernelspec": {
      "name": "python",
      "display_name": "Python (Pyodide)",
      "language": "python"
    },
    "language_info": {
      "codemirror_mode": {
        "name": "ipython",
        "version": 3
      },
      "file_extension": ".py",
      "mimetype": "text/x-python",
      "name": "python",
      "nbconvert_exporter": "python",
      "pygments_lexer": "ipython3",
      "version": "3.10.7"
    }
  },
  "nbformat_minor": 5,
  "nbformat": 4,
  "cells": [
    {
      "cell_type": "code",
      "source": "class Item:\n    def __init__(self, value, weight):\n        self.value = value\n        self.weight = weight\n        self.ratio = value / weight\n\ndef knapsack_bb(items, capacity):\n    # Sort items by value-to-weight ratio (greedy step)\n    items.sort(key=lambda x: x.ratio, reverse=True)\n\n    def upper_bound(node, n, capacity):\n        if node.weight >= capacity:\n            return 0\n        upper_bound_value = node.value\n        j = node.level + 1\n        total_weight = node.weight\n        while j < n and total_weight + items[j].weight <= capacity:\n            upper_bound_value += items[j].value\n            total_weight += items[j].weight\n            j += 1\n        if j < n:\n            upper_bound_value += (capacity - total_weight) * items[j].ratio\n        return upper_bound_value\n\n    class Node:\n        def __init__(self, level, value, weight):\n            self.level = level\n            self.value = value\n            self.weight = weight\n            self.bound = 0\n\n    n = len(items)\n    max_value = 0\n    max_node = Node(-1, 0, 0)\n    current_node = Node(0, 0, 0)\n\n    while current_node.level < n - 1:\n        current_node.level += 1\n\n        if current_node.weight + items[current_node.level].weight <= capacity:\n            current_node.weight += items[current_node.level].weight\n            current_node.value += items[current_node.level].value\n        current_node.bound = upper_bound(current_node, n, capacity)\n\n        if current_node.bound > max_value:\n            max_node = current_node\n\n        if current_node.bound > max_value:\n            current_node.level += 1\n            current_node.weight -= items[current_node.level].weight\n            current_node.value -= items[current_node.level].value\n\n    return max_node.value\n\n# Example usage\nitems = [Item(60, 10), Item(100, 20), Item(120, 30)]\ncapacity = 50\n\nmax_value = knapsack_bb(items, capacity)\nprint(\"Maximum value:\", max_value)\n",
      "metadata": {},
      "execution_count": 1,
      "outputs": [
        {
          "name": "stdout",
          "output_type": "stream",
          "text": "Maximum value: -20\n"
        }
      ],
      "id": "ad868d18"
    },
    {
      "cell_type": "code",
      "source": "",
      "metadata": {},
      "execution_count": null,
      "outputs": [],
      "id": "e2f15e01"
    }
  ]
}