{
 "cells": [
  {
   "cell_type": "code",
   "execution_count": 6,
   "metadata": {},
   "outputs": [
    {
     "name": "stdout",
     "output_type": "stream",
     "text": [
      "[1, 5, 7, 8, 9, 10]\n"
     ]
    }
   ],
   "source": [
    "import random\n",
    "\n",
    "def quicksort(arr, start , stop):\n",
    "    if(start < stop):\n",
    "\n",
    "        pivotindex = partitionrand(arr,start, stop)\n",
    "\n",
    "        quicksort(arr , start , pivotindex-1)\n",
    "        quicksort(arr, pivotindex + 1, stop)\n",
    "\n",
    "def partitionrand(arr , start, stop):\n",
    "\n",
    "    randpivot = random.randrange(start, stop)\n",
    "\n",
    "    arr[start], arr[randpivot] = \\\n",
    "        arr[randpivot], arr[start]\n",
    "    return partition(arr, start, stop)\n",
    "\n",
    "def partition(arr,start,stop):\n",
    "    pivot = start \n",
    "\n",
    "    i = start + 1\n",
    "\n",
    "    for j in range(start + 1, stop + 1):\n",
    "\n",
    "        if arr[j] <= arr[pivot]:\n",
    "            arr[i] , arr[j] = arr[j] , arr[i]\n",
    "            i = i + 1\n",
    "    arr[pivot] , arr[i - 1] = arr[i - 1] , arr[pivot]\n",
    "    pivot = i - 1\n",
    "    return (pivot)\n",
    "\n",
    "\n",
    "array = [10, 7, 8, 9, 1, 5]\n",
    "quicksort(array, 0, len(array) - 1)\n",
    "print(array)\n",
    "\n",
    "# This code is contributed by soumyasaurav\n"
   ]
  },
  {
   "cell_type": "code",
   "execution_count": null,
   "metadata": {},
   "outputs": [],
   "source": []
  }
 ],
 "metadata": {
  "kernelspec": {
   "display_name": "Python 3 (ipykernel)",
   "language": "python",
   "name": "python3"
  },
  "language_info": {
   "codemirror_mode": {
    "name": "ipython",
    "version": 3
   },
   "file_extension": ".py",
   "mimetype": "text/x-python",
   "name": "python",
   "nbconvert_exporter": "python",
   "pygments_lexer": "ipython3",
   "version": "3.12.0"
  }
 },
 "nbformat": 4,
 "nbformat_minor": 4
}
