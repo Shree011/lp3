{
 "cells": [
  {
   "cell_type": "code",
   "execution_count": 1,
   "id": "18744c40-10b7-4bca-8a02-ed151ff850dd",
   "metadata": {},
   "outputs": [
    {
     "name": "stdout",
     "output_type": "stream",
     "text": [
      "Optimal Schedule: [3, 2, 1, 4]\n"
     ]
    }
   ],
   "source": [
    "def schedule_with_deadline(jobs):\n",
    "    # Sort the array of jobs based on profit in non-decreasing order\n",
    "    jobs.sort(key=lambda job: job['profit'])\n",
    "\n",
    "    n = len(jobs)\n",
    "    i = 0\n",
    "    schedule = []\n",
    "\n",
    "    while i < n:\n",
    "        # Select the next job i from the sorted list\n",
    "        job_i = jobs[i]\n",
    "\n",
    "        # Scheduling job is feasible if it doesn't conflict with the current schedule\n",
    "        if is_feasible(schedule, job_i):\n",
    "            schedule.append(job_i)\n",
    "        \n",
    "        i += 1\n",
    "\n",
    "    return schedule\n",
    "\n",
    "def is_feasible(schedule, job_i):\n",
    "    # Check feasibility by making sure the job's deadline isn't exceeded\n",
    "    if not schedule:\n",
    "        return True\n",
    "    last_job = schedule[-1]\n",
    "    return last_job['deadline'] < job_i['deadline']\n",
    "\n",
    "# Example usage\n",
    "jobs = [\n",
    "    {'job_id': 1, 'profit': 30, 'deadline': 3},\n",
    "    {'job_id': 2, 'profit': 20, 'deadline': 2},\n",
    "    {'job_id': 3, 'profit': 10, 'deadline': 1},\n",
    "    {'job_id': 4, 'profit': 40, 'deadline': 4},\n",
    "]\n",
    "\n",
    "optimal_schedule = schedule_with_deadline(jobs)\n",
    "print(\"Optimal Schedule:\", [job['job_id'] for job in optimal_schedule])"
   ]
  },
  {
   "cell_type": "code",
   "execution_count": null,
   "id": "14e04184-bb46-4737-8d74-d6c6fb551fe0",
   "metadata": {},
   "outputs": [],
   "source": []
  }
 ],
 "metadata": {
  "kernelspec": {
   "display_name": "Python 3 (ipykernel)",
   "language": "python",
   "name": "python3"
  },
  "language_info": {
   "codemirror_mode": {
    "name": "ipython",
    "version": 3
   },
   "file_extension": ".py",
   "mimetype": "text/x-python",
   "name": "python",
   "nbconvert_exporter": "python",
   "pygments_lexer": "ipython3",
   "version": "3.12.0"
  }
 },
 "nbformat": 4,
 "nbformat_minor": 5
}
