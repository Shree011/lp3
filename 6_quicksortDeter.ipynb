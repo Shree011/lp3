{
 "cells": [
  {
   "cell_type": "code",
   "execution_count": 2,
   "metadata": {},
   "outputs": [
    {
     "name": "stdout",
     "output_type": "stream",
     "text": [
      "Sorted array:\n",
      "1 5 7 8 9 10 "
     ]
    }
   ],
   "source": [
    "# Python3 implementation of QuickSort\n",
    "\n",
    "\n",
    "# Function to find the partition position\n",
    "def partition(array, low, high):\n",
    "\n",
    "    # Choose the rightmost element as pivot\n",
    "    pivot = array[high]\n",
    "\n",
    "    # Pointer for greater element\n",
    "    i = low - 1\n",
    "\n",
    "    # Traverse through all elements\n",
    "    # compare each element with pivot\n",
    "    for j in range(low, high):\n",
    "        if array[j] <= pivot:\n",
    "\n",
    "            # If element smaller than pivot is found\n",
    "            # swap it with the greater element pointed by i\n",
    "            i = i + 1\n",
    "\n",
    "            # Swapping element at i with element at j\n",
    "            (array[i], array[j]) = (array[j], array[i])\n",
    "\n",
    "    # Swap the pivot element with\n",
    "    # the greater element specified by i\n",
    "    (array[i + 1], array[high]) = (array[high], array[i + 1])\n",
    "\n",
    "    # Return the position from where partition is done\n",
    "    return i + 1\n",
    "\n",
    "\n",
    "# Function to perform quicksort\n",
    "def quicksort(array, low, high):\n",
    "    if low < high:\n",
    "\n",
    "        # Find pivot element such that\n",
    "        # element smaller than pivot are on the left\n",
    "        # element greater than pivot are on the right\n",
    "        pi = partition(array, low, high)\n",
    "\n",
    "        # Recursive call on the left of pivot\n",
    "        quicksort(array, low, pi - 1)\n",
    "\n",
    "        # Recursive call on the right of pivot\n",
    "        quicksort(array, pi + 1, high)\n",
    "\n",
    "\n",
    "array = [10, 7, 8, 9, 1, 5]\n",
    "N = len(array)\n",
    "\n",
    "# Function call\n",
    "quicksort(array, 0, N - 1)\n",
    "print('Sorted array:')\n",
    "for x in array:\n",
    "    print(x, end=\" \")\n",
    "\n",
    "# This code is contributed by Adnan Aliakbar\n"
   ]
  },
  {
   "cell_type": "code",
   "execution_count": null,
   "metadata": {},
   "outputs": [],
   "source": []
  }
 ],
 "metadata": {
  "kernelspec": {
   "display_name": "Python 3 (ipykernel)",
   "language": "python",
   "name": "python3"
  },
  "language_info": {
   "codemirror_mode": {
    "name": "ipython",
    "version": 3
   },
   "file_extension": ".py",
   "mimetype": "text/x-python",
   "name": "python",
   "nbconvert_exporter": "python",
   "pygments_lexer": "ipython3",
   "version": "3.12.0"
  }
 },
 "nbformat": 4,
 "nbformat_minor": 4
}
